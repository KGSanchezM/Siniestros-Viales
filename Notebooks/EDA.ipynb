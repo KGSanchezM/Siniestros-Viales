{
 "cells": [
  {
   "cell_type": "markdown",
   "metadata": {},
   "source": [
    "# Análisis Exploratorio de Datos\n",
    "En este reporte, se llevará a cabo una exploración detallada de los conjuntos de datos asociados con los conjuntos de hechos y víctimas. La meta principal consiste en comprender la organización de estos datos, detectar posibles patrones, y recopilar información significativa que pueda servir como guía para realizar el dashboard en PowerBI."
   ]
  },
  {
   "cell_type": "markdown",
   "metadata": {},
   "source": [
    "### Importación de bibliotecas"
   ]
  },
  {
   "cell_type": "code",
   "execution_count": 1,
   "metadata": {},
   "outputs": [],
   "source": [
    "import pandas as pd\n",
    "import numpy as np\n",
    "import matplotlib.pyplot as plt\n",
    "import seaborn as sns"
   ]
  },
  {
   "cell_type": "markdown",
   "metadata": {},
   "source": [
    "### Lectura de datos"
   ]
  },
  {
   "cell_type": "code",
   "execution_count": 2,
   "metadata": {},
   "outputs": [],
   "source": [
    "hechos= pd.read_csv('../Datasets/CSV/hechos.csv')\n",
    "victimas= pd.read_csv('../Datasets/CSV/victimas.csv')"
   ]
  },
  {
   "cell_type": "markdown",
   "metadata": {},
   "source": [
    "### Estructura de los Dataframes\n",
    "\n",
    "Visualizamos las primeras filas de los DataFrames"
   ]
  },
  {
   "cell_type": "code",
   "execution_count": 9,
   "metadata": {},
   "outputs": [
    {
     "data": {
      "text/html": [
       "<div>\n",
       "<style scoped>\n",
       "    .dataframe tbody tr th:only-of-type {\n",
       "        vertical-align: middle;\n",
       "    }\n",
       "\n",
       "    .dataframe tbody tr th {\n",
       "        vertical-align: top;\n",
       "    }\n",
       "\n",
       "    .dataframe thead th {\n",
       "        text-align: right;\n",
       "    }\n",
       "</style>\n",
       "<table border=\"1\" class=\"dataframe\">\n",
       "  <thead>\n",
       "    <tr style=\"text-align: right;\">\n",
       "      <th></th>\n",
       "      <th>id_hecho</th>\n",
       "      <th>n_victimas</th>\n",
       "      <th>fecha</th>\n",
       "      <th>hh</th>\n",
       "      <th>tipo_calle</th>\n",
       "      <th>comuna</th>\n",
       "      <th>longitud</th>\n",
       "      <th>latitud</th>\n",
       "      <th>victima</th>\n",
       "      <th>acusado</th>\n",
       "      <th>vehiculo1</th>\n",
       "      <th>vehiculo2</th>\n",
       "      <th>gravedad</th>\n",
       "    </tr>\n",
       "  </thead>\n",
       "  <tbody>\n",
       "    <tr>\n",
       "      <th>0</th>\n",
       "      <td>2016-0001</td>\n",
       "      <td>1</td>\n",
       "      <td>2016-01-01</td>\n",
       "      <td>4.0</td>\n",
       "      <td>avenida</td>\n",
       "      <td>8.0</td>\n",
       "      <td>-58.475340</td>\n",
       "      <td>-34.687570</td>\n",
       "      <td>moto</td>\n",
       "      <td>auto</td>\n",
       "      <td>moto</td>\n",
       "      <td>auto</td>\n",
       "      <td>fatal</td>\n",
       "    </tr>\n",
       "    <tr>\n",
       "      <th>1</th>\n",
       "      <td>2016-0002</td>\n",
       "      <td>1</td>\n",
       "      <td>2016-01-02</td>\n",
       "      <td>1.0</td>\n",
       "      <td>gral paz</td>\n",
       "      <td>9.0</td>\n",
       "      <td>-58.508775</td>\n",
       "      <td>-34.669777</td>\n",
       "      <td>auto</td>\n",
       "      <td>pasajeros</td>\n",
       "      <td>auto</td>\n",
       "      <td>pasajeros</td>\n",
       "      <td>fatal</td>\n",
       "    </tr>\n",
       "    <tr>\n",
       "      <th>2</th>\n",
       "      <td>2016-0003</td>\n",
       "      <td>1</td>\n",
       "      <td>2016-01-03</td>\n",
       "      <td>7.0</td>\n",
       "      <td>avenida</td>\n",
       "      <td>1.0</td>\n",
       "      <td>-58.390403</td>\n",
       "      <td>-34.631894</td>\n",
       "      <td>moto</td>\n",
       "      <td>auto</td>\n",
       "      <td>moto</td>\n",
       "      <td>auto</td>\n",
       "      <td>fatal</td>\n",
       "    </tr>\n",
       "    <tr>\n",
       "      <th>3</th>\n",
       "      <td>2016-0004</td>\n",
       "      <td>1</td>\n",
       "      <td>2016-01-10</td>\n",
       "      <td>0.0</td>\n",
       "      <td>avenida</td>\n",
       "      <td>8.0</td>\n",
       "      <td>-58.465039</td>\n",
       "      <td>-34.680930</td>\n",
       "      <td>moto</td>\n",
       "      <td>NaN</td>\n",
       "      <td>moto</td>\n",
       "      <td>NaN</td>\n",
       "      <td>fatal</td>\n",
       "    </tr>\n",
       "    <tr>\n",
       "      <th>4</th>\n",
       "      <td>2016-0005</td>\n",
       "      <td>1</td>\n",
       "      <td>2016-01-21</td>\n",
       "      <td>5.0</td>\n",
       "      <td>avenida</td>\n",
       "      <td>1.0</td>\n",
       "      <td>-58.387183</td>\n",
       "      <td>-34.622466</td>\n",
       "      <td>moto</td>\n",
       "      <td>pasajeros</td>\n",
       "      <td>moto</td>\n",
       "      <td>pasajeros</td>\n",
       "      <td>fatal</td>\n",
       "    </tr>\n",
       "  </tbody>\n",
       "</table>\n",
       "</div>"
      ],
      "text/plain": [
       "    id_hecho  n_victimas       fecha   hh tipo_calle  comuna   longitud  \\\n",
       "0  2016-0001           1  2016-01-01  4.0    avenida     8.0 -58.475340   \n",
       "1  2016-0002           1  2016-01-02  1.0   gral paz     9.0 -58.508775   \n",
       "2  2016-0003           1  2016-01-03  7.0    avenida     1.0 -58.390403   \n",
       "3  2016-0004           1  2016-01-10  0.0    avenida     8.0 -58.465039   \n",
       "4  2016-0005           1  2016-01-21  5.0    avenida     1.0 -58.387183   \n",
       "\n",
       "     latitud victima    acusado vehiculo1  vehiculo2 gravedad  \n",
       "0 -34.687570    moto       auto      moto       auto    fatal  \n",
       "1 -34.669777    auto  pasajeros      auto  pasajeros    fatal  \n",
       "2 -34.631894    moto       auto      moto       auto    fatal  \n",
       "3 -34.680930    moto        NaN      moto        NaN    fatal  \n",
       "4 -34.622466    moto  pasajeros      moto  pasajeros    fatal  "
      ]
     },
     "execution_count": 9,
     "metadata": {},
     "output_type": "execute_result"
    }
   ],
   "source": [
    "hechos.head()"
   ]
  },
  {
   "cell_type": "code",
   "execution_count": 10,
   "metadata": {},
   "outputs": [
    {
     "data": {
      "text/html": [
       "<div>\n",
       "<style scoped>\n",
       "    .dataframe tbody tr th:only-of-type {\n",
       "        vertical-align: middle;\n",
       "    }\n",
       "\n",
       "    .dataframe tbody tr th {\n",
       "        vertical-align: top;\n",
       "    }\n",
       "\n",
       "    .dataframe thead th {\n",
       "        text-align: right;\n",
       "    }\n",
       "</style>\n",
       "<table border=\"1\" class=\"dataframe\">\n",
       "  <thead>\n",
       "    <tr style=\"text-align: right;\">\n",
       "      <th></th>\n",
       "      <th>id_hecho</th>\n",
       "      <th>fecha</th>\n",
       "      <th>rol</th>\n",
       "      <th>vehiculo_victima</th>\n",
       "      <th>sexo_victima</th>\n",
       "      <th>edad_victima</th>\n",
       "      <th>gravedad</th>\n",
       "    </tr>\n",
       "  </thead>\n",
       "  <tbody>\n",
       "    <tr>\n",
       "      <th>0</th>\n",
       "      <td>2016-0001</td>\n",
       "      <td>2016-01-01</td>\n",
       "      <td>conductor</td>\n",
       "      <td>moto</td>\n",
       "      <td>masculino</td>\n",
       "      <td>19.0</td>\n",
       "      <td>fatal</td>\n",
       "    </tr>\n",
       "    <tr>\n",
       "      <th>1</th>\n",
       "      <td>2016-0002</td>\n",
       "      <td>2016-01-02</td>\n",
       "      <td>conductor</td>\n",
       "      <td>auto</td>\n",
       "      <td>masculino</td>\n",
       "      <td>70.0</td>\n",
       "      <td>fatal</td>\n",
       "    </tr>\n",
       "    <tr>\n",
       "      <th>2</th>\n",
       "      <td>2016-0003</td>\n",
       "      <td>2016-01-03</td>\n",
       "      <td>conductor</td>\n",
       "      <td>moto</td>\n",
       "      <td>masculino</td>\n",
       "      <td>30.0</td>\n",
       "      <td>fatal</td>\n",
       "    </tr>\n",
       "    <tr>\n",
       "      <th>3</th>\n",
       "      <td>2016-0004</td>\n",
       "      <td>2016-01-10</td>\n",
       "      <td>conductor</td>\n",
       "      <td>moto</td>\n",
       "      <td>masculino</td>\n",
       "      <td>18.0</td>\n",
       "      <td>fatal</td>\n",
       "    </tr>\n",
       "    <tr>\n",
       "      <th>4</th>\n",
       "      <td>2016-0005</td>\n",
       "      <td>2016-01-21</td>\n",
       "      <td>conductor</td>\n",
       "      <td>moto</td>\n",
       "      <td>masculino</td>\n",
       "      <td>29.0</td>\n",
       "      <td>fatal</td>\n",
       "    </tr>\n",
       "  </tbody>\n",
       "</table>\n",
       "</div>"
      ],
      "text/plain": [
       "    id_hecho       fecha        rol vehiculo_victima sexo_victima  \\\n",
       "0  2016-0001  2016-01-01  conductor             moto    masculino   \n",
       "1  2016-0002  2016-01-02  conductor             auto    masculino   \n",
       "2  2016-0003  2016-01-03  conductor             moto    masculino   \n",
       "3  2016-0004  2016-01-10  conductor             moto    masculino   \n",
       "4  2016-0005  2016-01-21  conductor             moto    masculino   \n",
       "\n",
       "   edad_victima gravedad  \n",
       "0          19.0    fatal  \n",
       "1          70.0    fatal  \n",
       "2          30.0    fatal  \n",
       "3          18.0    fatal  \n",
       "4          29.0    fatal  "
      ]
     },
     "execution_count": 10,
     "metadata": {},
     "output_type": "execute_result"
    }
   ],
   "source": [
    "victimas.head()"
   ]
  },
  {
   "cell_type": "markdown",
   "metadata": {},
   "source": [
    "#### Tipos de datos"
   ]
  },
  {
   "cell_type": "code",
   "execution_count": 12,
   "metadata": {},
   "outputs": [
    {
     "name": "stdout",
     "output_type": "stream",
     "text": [
      "\n",
      "Tipos de datos:\n"
     ]
    },
    {
     "data": {
      "text/plain": [
       "id_hecho       object\n",
       "n_victimas      int64\n",
       "fecha          object\n",
       "hh            float64\n",
       "tipo_calle     object\n",
       "comuna        float64\n",
       "longitud      float64\n",
       "latitud       float64\n",
       "victima        object\n",
       "acusado        object\n",
       "vehiculo1      object\n",
       "vehiculo2      object\n",
       "gravedad       object\n",
       "dtype: object"
      ]
     },
     "execution_count": 12,
     "metadata": {},
     "output_type": "execute_result"
    }
   ],
   "source": [
    "print(\"\\nTipos de datos:\")\n",
    "hechos.dtypes # Muestra los tipos de datos de cada columna"
   ]
  },
  {
   "cell_type": "code",
   "execution_count": 13,
   "metadata": {},
   "outputs": [
    {
     "name": "stdout",
     "output_type": "stream",
     "text": [
      "\n",
      "Tipos de datos:\n",
      "id_hecho             object\n",
      "fecha                object\n",
      "rol                  object\n",
      "vehiculo_victima     object\n",
      "sexo_victima         object\n",
      "edad_victima        float64\n",
      "gravedad             object\n",
      "dtype: object\n"
     ]
    }
   ],
   "source": [
    "print(\"\\nTipos de datos:\")\n",
    "print(victimas.dtypes)  # Muestra los tipos de datos de cada columna"
   ]
  },
  {
   "cell_type": "markdown",
   "metadata": {},
   "source": [
    "### Valores nulos"
   ]
  },
  {
   "cell_type": "code",
   "execution_count": 24,
   "metadata": {},
   "outputs": [
    {
     "name": "stdout",
     "output_type": "stream",
     "text": [
      "\n",
      "Porcentaje de valores nulos en 'hechos':\n",
      "id_hecho        0.0 %\n",
      "n_victimas      0.0 %\n",
      "fecha           0.0 %\n",
      "hh             0.04 %\n",
      "tipo_calle    45.12 %\n",
      "comuna         5.96 %\n",
      "longitud       6.06 %\n",
      "latitud        6.06 %\n",
      "victima       43.88 %\n",
      "acusado       62.54 %\n",
      "vehiculo1     43.88 %\n",
      "vehiculo2     62.61 %\n",
      "gravedad        0.0 %\n",
      "dtype: object\n"
     ]
    }
   ],
   "source": [
    "print(\"\\nPorcentaje de valores nulos en 'hechos':\")\n",
    "porcentaje_nulos_hechos = (hechos.isnull().sum() / hechos.shape[0]) * 100\n",
    "print(round(porcentaje_nulos_hechos, 2).astype(str) + ' %') # Muestra la cantidad de valores nulos por columna"
   ]
  },
  {
   "cell_type": "markdown",
   "metadata": {},
   "source": [
    "Las columnas tipo_calle, victima, acusado, vehiculo1 y vehiculo2 contienen una cantidad significativa de valores nulos. No obstante, al focalizarnos únicamente en los eventos catalogados con gravedad fatal, se evidenció una reducción considerable en la proporción de valores nulos en estas columnas."
   ]
  },
  {
   "cell_type": "code",
   "execution_count": 25,
   "metadata": {},
   "outputs": [
    {
     "name": "stdout",
     "output_type": "stream",
     "text": [
      "\n",
      "Porcentaje de valores nulos en 'hechos' de gravedad fatal:\n",
      "id_hecho       0.0 %\n",
      "n_victimas     0.0 %\n",
      "fecha          0.0 %\n",
      "hh            0.14 %\n",
      "tipo_calle    0.29 %\n",
      "comuna        0.57 %\n",
      "longitud       2.0 %\n",
      "latitud        2.0 %\n",
      "victima       1.29 %\n",
      "acusado       3.29 %\n",
      "vehiculo1     1.29 %\n",
      "vehiculo2     5.72 %\n",
      "gravedad       0.0 %\n",
      "dtype: object\n"
     ]
    }
   ],
   "source": [
    "print(\"\\nPorcentaje de valores nulos en 'hechos' de gravedad fatal:\")\n",
    "porcentaje_nulos_hechos = (hechos.loc[hechos['gravedad']=='fatal'].isnull().sum() /hechos.loc[hechos['gravedad']=='fatal'].shape[0]) * 100\n",
    "print(round(porcentaje_nulos_hechos, 2).astype(str) + ' %') # Muestra la cantidad de valores nulos por columna"
   ]
  },
  {
   "cell_type": "code",
   "execution_count": 26,
   "metadata": {},
   "outputs": [
    {
     "name": "stdout",
     "output_type": "stream",
     "text": [
      "\n",
      "Porcentaje de valores nulos en 'hechos':\n",
      "id_hecho              0.0 %\n",
      "fecha                 0.0 %\n",
      "rol                 97.51 %\n",
      "vehiculo_victima    57.49 %\n",
      "sexo_victima         7.89 %\n",
      "edad_victima        15.97 %\n",
      "gravedad              0.0 %\n",
      "dtype: object\n"
     ]
    }
   ],
   "source": [
    "print(\"\\nPorcentaje de valores nulos en 'hechos':\")\n",
    "porcentaje_nulos_victimas = (victimas.isnull().sum() / victimas.shape[0]) * 100\n",
    "print(round(porcentaje_nulos_victimas, 2).astype(str) + ' %') # Muestra la cantidad de valores nulos por columna"
   ]
  },
  {
   "cell_type": "markdown",
   "metadata": {},
   "source": [
    "Se observa que las columnas rol, vehiculo_victima y edad_victima presentan una proporción significativa de valores nulos en el conjunto de datos general. No obstante, si se restringe el  análisis a los accidentes catalogados con gravedad fatal, estas tasas de valores nulos experimentan una notable reducción."
   ]
  },
  {
   "cell_type": "code",
   "execution_count": 27,
   "metadata": {},
   "outputs": [
    {
     "name": "stdout",
     "output_type": "stream",
     "text": [
      "\n",
      "Porcentaje de valores nulos en 'victimas' de gravedad fatal:\n",
      "id_hecho             0.0 %\n",
      "fecha                0.0 %\n",
      "rol                 1.53 %\n",
      "vehiculo_victima    1.26 %\n",
      "sexo_victima        0.84 %\n",
      "edad_victima        7.39 %\n",
      "gravedad             0.0 %\n",
      "dtype: object\n"
     ]
    }
   ],
   "source": [
    "print(\"\\nPorcentaje de valores nulos en 'victimas' de gravedad fatal:\")\n",
    "porcentaje_nulos_victimas = (victimas.loc[victimas['gravedad']=='fatal'].isnull().sum() /victimas.loc[victimas['gravedad']=='fatal'].shape[0]) * 100\n",
    "print(round(porcentaje_nulos_victimas, 2).astype(str) + ' %') # Muestra la cantidad de valores nulos por columna"
   ]
  },
  {
   "cell_type": "code",
   "execution_count": 28,
   "metadata": {},
   "outputs": [
    {
     "name": "stdout",
     "output_type": "stream",
     "text": [
      "Cantidad de filas y columnas en el dataframe 'hechos': (24481, 13)\n",
      "Cantidad de filas y columnas en el dataframe 'victimas': (28322, 7)\n"
     ]
    }
   ],
   "source": [
    "# Cantidad de filas y columnas en el dataframe 'hechos'\n",
    "print(\"Cantidad de filas y columnas en el dataframe 'hechos':\", hechos.shape)\n",
    "\n",
    "# Cantidad de filas y columnas en el dataframe 'victimas'\n",
    "print(\"Cantidad de filas y columnas en el dataframe 'victimas':\", victimas.shape)"
   ]
  },
  {
   "cell_type": "markdown",
   "metadata": {},
   "source": [
    "\n",
    "\n",
    "Estadísticas Descriptivas:\n",
    "\n",
    "Cálculo de estadísticas descriptivas básicas como media, mediana, desviación estándar, etc.\n",
    "Visualización de Datos:\n",
    "\n",
    "Creación de gráficos para visualizar la distribución de datos, como histogramas, diagramas de caja (box plots), diagramas de dispersión, etc.\n",
    "Análisis de Correlación:\n",
    "\n",
    "Exploración de relaciones entre variables mediante el cálculo de correlaciones.\n",
    "Manejo de Valores Atípicos:\n",
    "\n",
    "Identificación y manejo de valores atípicos que podrían afectar el análisis.\n",
    "Exploración de Relaciones entre Variables:\n",
    "\n",
    "Análisis de cómo las diferentes variables se relacionan entre sí.\n",
    "Análisis de Tendencias y Patrones Temporales:\n",
    "\n",
    "Si el conjunto de datos tiene una dimensión temporal, se deben explorar las tendencias y patrones a lo largo del tiempo.\n",
    "Segmentación de Datos:\n",
    "\n",
    "Segmentación de datos para comparar diferentes grupos y entender mejor las variaciones.\n",
    "Conclusiones Preliminares:\n",
    "\n",
    "Resumen de las observaciones clave y conclusiones preliminares derivadas del análisis exploratorio."
   ]
  }
 ],
 "metadata": {
  "kernelspec": {
   "display_name": "Python 3",
   "language": "python",
   "name": "python3"
  },
  "language_info": {
   "codemirror_mode": {
    "name": "ipython",
    "version": 3
   },
   "file_extension": ".py",
   "mimetype": "text/x-python",
   "name": "python",
   "nbconvert_exporter": "python",
   "pygments_lexer": "ipython3",
   "version": "3.11.6"
  }
 },
 "nbformat": 4,
 "nbformat_minor": 2
}
